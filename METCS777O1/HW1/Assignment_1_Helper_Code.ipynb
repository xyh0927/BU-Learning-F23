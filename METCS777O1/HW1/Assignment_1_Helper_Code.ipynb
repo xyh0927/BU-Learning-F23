{
  "nbformat": 4,
  "nbformat_minor": 0,
  "metadata": {
    "colab": {
      "name": "Assignment 1-Helper Code.ipynb",
      "provenance": [],
      "collapsed_sections": [],
      "include_colab_link": true
    },
    "kernelspec": {
      "name": "python3",
      "display_name": "Python 3"
    },
    "language_info": {
      "name": "python"
    }
  },
  "cells": [
    {
      "cell_type": "markdown",
      "metadata": {
        "id": "view-in-github",
        "colab_type": "text"
      },
      "source": [
        "<a href=\"https://colab.research.google.com/github/MET-CS-777/assignment-1t/blob/main/Assignment_1_Helper_Code.ipynb\" target=\"_parent\"><img src=\"https://colab.research.google.com/assets/colab-badge.svg\" alt=\"Open In Colab\"/></a>"
      ]
    },
    {
      "cell_type": "markdown",
      "source": [
        "# Assignment 1 helper code\n",
        "**NOTE**\n",
        "\n",
        "- You can use this Colab Notebook only to quickly start with Spark.\n",
        "- This code is only for an intro to the Spark platform and can not be used as an assignment 1 submission. \n",
        "- The assignment must be done using a python script that can run on the Google Cloud Platform. Use the .py template to submit your assignment."
      ],
      "metadata": {
        "id": "EYOpopOSF1xV"
      }
    },
    {
      "cell_type": "code",
      "source": [
        "# Install PySpark on Colab Vrtula Machine\n",
        "!pip install pyspark"
      ],
      "metadata": {
        "colab": {
          "base_uri": "https://localhost:8080/"
        },
        "id": "DazkoYEnNvCk",
        "outputId": "d41218a9-c740-48f4-a469-413b212420a6"
      },
      "execution_count": 1,
      "outputs": [
        {
          "output_type": "stream",
          "name": "stdout",
          "text": [
            "Looking in indexes: https://pypi.org/simple, https://us-python.pkg.dev/colab-wheels/public/simple/\n",
            "Collecting pyspark\n",
            "  Downloading pyspark-3.3.0.tar.gz (281.3 MB)\n",
            "\u001b[K     |████████████████████████████████| 281.3 MB 41 kB/s \n",
            "\u001b[?25hCollecting py4j==0.10.9.5\n",
            "  Downloading py4j-0.10.9.5-py2.py3-none-any.whl (199 kB)\n",
            "\u001b[K     |████████████████████████████████| 199 kB 51.4 MB/s \n",
            "\u001b[?25hBuilding wheels for collected packages: pyspark\n",
            "  Building wheel for pyspark (setup.py) ... \u001b[?25l\u001b[?25hdone\n",
            "  Created wheel for pyspark: filename=pyspark-3.3.0-py2.py3-none-any.whl size=281764026 sha256=bfd4dafc8ff6f6f8217961946cc0f5fc9cc6335e12261da8576a8b934b7c9c8c\n",
            "  Stored in directory: /root/.cache/pip/wheels/7a/8e/1b/f73a52650d2e5f337708d9f6a1750d451a7349a867f928b885\n",
            "Successfully built pyspark\n",
            "Installing collected packages: py4j, pyspark\n",
            "Successfully installed py4j-0.10.9.5 pyspark-3.3.0\n"
          ]
        }
      ]
    },
    {
      "cell_type": "code",
      "source": [],
      "metadata": {
        "id": "DeOnffLnL7-Q"
      },
      "execution_count": null,
      "outputs": []
    },
    {
      "cell_type": "code",
      "source": [
        "from pyspark import SparkContext\n",
        "from pyspark.sql import SparkSession\n",
        "sc = SparkContext(\"local\")\n",
        "spark = SparkSession.builder.getOrCreate()"
      ],
      "metadata": {
        "id": "26OFIJedNvKh"
      },
      "execution_count": 2,
      "outputs": []
    },
    {
      "cell_type": "code",
      "source": [
        "#Exception Handling and removing wrong datalines\n",
        "def isfloat(value):\n",
        "    try:\n",
        "        float(value)\n",
        "        return True\n",
        " \n",
        "    except:\n",
        "         return False"
      ],
      "metadata": {
        "id": "fUfKATdbNvlT"
      },
      "execution_count": 3,
      "outputs": []
    },
    {
      "cell_type": "code",
      "source": [
        "#For example, remove lines if they don’t have 16 values and \n",
        "# checking if the trip distance and fare amount is a float number\n",
        "# checking if the trip duration is more than a minute, trip distance is more than 0.1 miles, \n",
        "# fare amount and total amount are more than 0.1 dollars\n",
        "def correctRows(p):\n",
        "    if(len(p)==17):\n",
        "        if(isfloat(p[5]) and isfloat(p[11])):\n",
        "            if(float(p[4])> 60 and float(p[5])>0.10 and float(p[11])> 0.10 and float(p[16])> 0.10):\n",
        "                return p\n",
        "\n"
      ],
      "metadata": {
        "id": "PQ6EEJgFNvoP"
      },
      "execution_count": 4,
      "outputs": []
    },
    {
      "cell_type": "code",
      "source": [
        "# Upload the data to Colab Virtual Machine\n",
        "# The data is downoladed from the web and stored localy. The wget is a linux command to get and download files from web.\n",
        "! wget -q https://storage.googleapis.com/cs777_spring_2022_public/taxi-data-sorted-verysmall.csv\n",
        "# At this point you have to upload your data to google colab local file system"
      ],
      "metadata": {
        "id": "X82Ws7RNPkdU"
      },
      "execution_count": 8,
      "outputs": []
    },
    {
      "cell_type": "code",
      "source": [
        "# Set your file path here \n",
        "path=\"file:///content/\"\n",
        "testFile= path + \"taxi-data-sorted-verysmall.csv\"\n",
        "\n",
        "# Read the data in Spark DataFrame\n",
        "testDataFrame = spark.read.format('csv').options(header='false', inferSchema='true',  sep =\",\").load(testFile)\n",
        "testDataFrame.show()"
      ],
      "metadata": {
        "colab": {
          "base_uri": "https://localhost:8080/"
        },
        "id": "9-7tAoUMQE7X",
        "outputId": "11effdef-9bf3-489b-9ec7-9cc1efc99f71"
      },
      "execution_count": 10,
      "outputs": [
        {
          "output_type": "stream",
          "name": "stdout",
          "text": [
            "+--------------------+--------------------+-------------------+-------------------+---+----+----------+---------+----------+---------+----+----+----+----+----+----+----+\n",
            "|                 _c0|                 _c1|                _c2|                _c3|_c4| _c5|       _c6|      _c7|       _c8|      _c9|_c10|_c11|_c12|_c13|_c14|_c15|_c16|\n",
            "+--------------------+--------------------+-------------------+-------------------+---+----+----------+---------+----------+---------+----+----+----+----+----+----+----+\n",
            "|07290D3599E7A0D62...|E7750A37CAB07D0DF...|2013-01-01 00:00:00|2013-01-01 00:02:00|120|0.44|-73.956528|40.716976| -73.96244|40.715008| CSH| 3.5| 0.5| 0.5| 0.0| 0.0| 4.5|\n",
            "|22D70BF00EEB0ADC8...|3FF2709163DE7036F...|2013-01-01 00:02:00|2013-01-01 00:02:00|  0| 0.0|       0.0|      0.0|       0.0|      0.0| CSH|27.0| 0.0| 0.5| 0.0| 0.0|27.5|\n",
            "|0EC22AAF491A8BD91...|778C92B26AE78A9EB...|2013-01-01 00:01:00|2013-01-01 00:03:00|120|0.71|-73.973145|40.752827|-73.965897|40.760445| CSH| 4.0| 0.5| 0.5| 0.0| 0.0| 5.0|\n",
            "|1390FB380189DF6BB...|BE317B986700F63C4...|2013-01-01 00:01:00|2013-01-01 00:03:00|120|0.48|-74.004173|40.720947|-74.003838|40.726189| CSH| 4.0| 0.5| 0.5| 0.0| 0.0| 5.0|\n",
            "|3B4129883A1D05BE8...|7077F9FD5AD649AEA...|2013-01-01 00:01:00|2013-01-01 00:03:00|120|0.61|-73.987373|40.724861|-73.983772|40.730995| CRD| 4.0| 0.5| 0.5| 0.0| 0.0| 5.0|\n",
            "|5FAA7F69213D26A42...|00B7691D86D96AEBD...|2013-01-01 00:02:00|2013-01-01 00:03:00| 60| 0.0|       0.0|      0.0|       0.0|      0.0| CRD| 2.5| 0.5| 0.5|0.25| 0.0|3.75|\n",
            "|DFBFA82ECA8F7059B...|CF8604E72D83840FB...|2013-01-01 00:02:00|2013-01-01 00:03:00| 60|0.39|-73.981544|40.781475|-73.979439|40.784386| CRD| 3.0| 0.5| 0.5| 0.7| 0.0| 4.7|\n",
            "|1E5F4C1CAE7AB3D06...|E0B2F618053518F24...|2013-01-01 00:03:00|2013-01-01 00:04:00| 60| 0.0|-73.993973|40.751266|       0.0|      0.0| CSH| 2.5| 0.5| 0.5| 0.0| 0.0| 3.5|\n",
            "|468244D1361B8A3EB...|BB899DFEA9CC964B5...|2013-01-01 00:00:00|2013-01-01 00:04:00|240|1.71|-73.955383|40.779728|-73.967758|40.760326| CSH| 6.5| 0.5| 0.5| 0.0| 0.0| 7.5|\n",
            "|5F78CC6D4ECD0541B...|B7567F5BFD558C665...|2013-01-01 00:00:00|2013-01-01 00:04:00|240|1.21|   -73.973| 40.79314|-73.981453|40.778465| CRD| 6.0| 0.5| 0.5| 1.3| 0.0| 8.3|\n",
            "|6BA29E9A69B10F218...|ED368552102F12EA2...|2013-01-01 00:01:00|2013-01-01 00:04:00|180|0.74|-73.971138| 40.75898|-73.972206|40.752502| CRD| 4.5| 0.5| 0.5| 0.0| 0.0| 5.5|\n",
            "|75C90377AB710B047...|00B7691D86D96AEBD...|2013-01-01 00:03:00|2013-01-01 00:04:00| 60| 0.0|       0.0|      0.0|       0.0|      0.0| CRD| 3.0| 0.5| 0.5|0.07| 0.0|4.07|\n",
            "|C306CAC565429C128...|E255D5DFB9A967B9D...|2013-01-01 00:01:00|2013-01-01 00:04:00|180|0.84|-73.942841|40.797031| -73.93454|40.797314| CSH| 4.5| 0.5| 0.5| 0.0| 0.0| 5.5|\n",
            "|C4D6E189EF44EB83E...|95B5B3CDA9EDC88AA...|2013-01-01 00:03:00|2013-01-01 00:04:00| 60| 0.0|-73.989189|40.721924|       0.0|      0.0| CSH| 2.5| 0.5| 0.5| 0.0| 0.0| 3.5|\n",
            "|DD467ED2E7DDB5C8B...|1D7876BD692018A5B...|2013-01-01 00:01:00|2013-01-01 00:04:00|180|0.95|-73.976753|40.750706|-73.990089|40.750729| CSH| 5.0| 0.5| 0.5| 0.0| 0.0| 6.0|\n",
            "|F8A0B52B22BB58B3C...|00B7691D86D96AEBD...|2013-01-01 00:03:00|2013-01-01 00:04:00| 60| 0.0|-73.937637|40.758369|-73.937607| 40.75835| CRD| 2.5| 0.5| 0.5|0.25| 0.0|3.75|\n",
            "|120E700FE35B2DDBE...|3EDDD1433E2276DF9...|2013-01-01 00:03:00|2013-01-01 00:05:00|120|0.52|-73.981972|40.752525|-73.985313|40.747738| CSH| 4.0| 0.5| 0.5| 0.0| 0.0| 5.0|\n",
            "|256C6A3CA47F81497...|8FA961982C3FEF438...|2013-01-01 00:00:00|2013-01-01 00:05:00|300|0.13|-73.969841|40.797359|-73.961899|40.812466| CSH| 6.5| 0.5| 0.5| 0.0| 0.0| 7.5|\n",
            "|655E773C92FA44635...|B6EAE07E2AD023B38...|2013-01-01 00:02:00|2013-01-01 00:05:00|180|1.55|-74.003197|40.733032|-74.012985|40.717377| CRD| 6.0| 0.5| 0.5|1.62| 0.0|8.62|\n",
            "|76942C3205E17D7E7...|25BA06A87905667AA...|2013-01-01 00:00:00|2013-01-01 00:05:00|300|0.61|-73.955925|40.781887|-73.963181|40.777832| CSH| 5.0| 0.5| 0.5| 0.0| 0.0| 6.0|\n",
            "+--------------------+--------------------+-------------------+-------------------+---+----+----------+---------+----------+---------+----+----+----+----+----+----+----+\n",
            "only showing top 20 rows\n",
            "\n"
          ]
        }
      ]
    },
    {
      "cell_type": "code",
      "source": [
        "# Convert data from DataFrame to RDD\n",
        "testRDD = testDataFrame.rdd.map(tuple)\n",
        "testRDD.take(1)"
      ],
      "metadata": {
        "colab": {
          "base_uri": "https://localhost:8080/"
        },
        "id": "nDrjNqbth3GP",
        "outputId": "98cf73a0-99e2-4bcd-9403-a2d8e9851786"
      },
      "execution_count": 13,
      "outputs": [
        {
          "output_type": "execute_result",
          "data": {
            "text/plain": [
              "[('07290D3599E7A0D62097A346EFCC1FB5',\n",
              "  'E7750A37CAB07D0DFF0AF7E3573AC141',\n",
              "  datetime.datetime(2013, 1, 1, 0, 0),\n",
              "  datetime.datetime(2013, 1, 1, 0, 2),\n",
              "  120,\n",
              "  0.44,\n",
              "  -73.956528,\n",
              "  40.716976,\n",
              "  -73.96244,\n",
              "  40.715008,\n",
              "  'CSH',\n",
              "  3.5,\n",
              "  0.5,\n",
              "  0.5,\n",
              "  0.0,\n",
              "  0.0,\n",
              "  4.5)]"
            ]
          },
          "metadata": {},
          "execution_count": 13
        }
      ]
    },
    {
      "cell_type": "code",
      "source": [
        "# Filter the only the valid records using the predefined filter() function\n",
        "taxilinesCorrected = testRDD.filter(correctRows)\n",
        "taxilinesCorrected.take(1)"
      ],
      "metadata": {
        "colab": {
          "base_uri": "https://localhost:8080/"
        },
        "id": "ICsJNxXSN_ub",
        "outputId": "47fc9913-8600-4048-81c8-1d664a722733"
      },
      "execution_count": 14,
      "outputs": [
        {
          "output_type": "execute_result",
          "data": {
            "text/plain": [
              "[('07290D3599E7A0D62097A346EFCC1FB5',\n",
              "  'E7750A37CAB07D0DFF0AF7E3573AC141',\n",
              "  datetime.datetime(2013, 1, 1, 0, 0),\n",
              "  datetime.datetime(2013, 1, 1, 0, 2),\n",
              "  120,\n",
              "  0.44,\n",
              "  -73.956528,\n",
              "  40.716976,\n",
              "  -73.96244,\n",
              "  40.715008,\n",
              "  'CSH',\n",
              "  3.5,\n",
              "  0.5,\n",
              "  0.5,\n",
              "  0.0,\n",
              "  0.0,\n",
              "  4.5)]"
            ]
          },
          "metadata": {},
          "execution_count": 14
        }
      ]
    },
    {
      "cell_type": "code",
      "source": [],
      "metadata": {
        "id": "CO_peVe1J9oq"
      },
      "execution_count": null,
      "outputs": []
    }
  ]
}